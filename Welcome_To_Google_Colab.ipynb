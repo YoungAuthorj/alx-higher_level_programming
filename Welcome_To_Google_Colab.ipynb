{
  "nbformat": 4,
  "nbformat_minor": 0,
  "metadata": {
    "colab": {
      "provenance": [],
      "authorship_tag": "ABX9TyOXuutNwgU7y4NdriYYJqST",
      "include_colab_link": true
    },
    "kernelspec": {
      "name": "python3",
      "display_name": "Python 3"
    },
    "language_info": {
      "name": "python"
    }
  },
  "cells": [
    {
      "cell_type": "markdown",
      "metadata": {
        "id": "view-in-github",
        "colab_type": "text"
      },
      "source": [
        "<a href=\"https://colab.research.google.com/github/YoungAuthorj/alx-higher_level_programming/blob/master/Welcome_To_Google_Colab.ipynb\" target=\"_parent\"><img src=\"https://colab.research.google.com/assets/colab-badge.svg\" alt=\"Open In Colab\"/></a>"
      ]
    },
    {
      "cell_type": "code",
      "execution_count": null,
      "metadata": {
        "id": "RDXzgvgAq0qM"
      },
      "outputs": [],
      "source": []
    },
    {
      "cell_type": "markdown",
      "source": [
        "###WELCOME TO GOOGLE COLAB, JOZEF!\n",
        "\n",
        "DESCRIPTION: My first program to officially welcome me to Colab."
      ],
      "metadata": {
        "id": "XVZgR1d1rMiw"
      }
    },
    {
      "cell_type": "code",
      "source": [
        "Name= input('Enter name: ')\n",
        "print('WELCOME TO GOOGLE COLAB, ' + Name)\n"
      ],
      "metadata": {
        "colab": {
          "base_uri": "https://localhost:8080/"
        },
        "id": "Ph2fbLsGr_th",
        "outputId": "7f0c5ecc-000e-46c1-e984-80729bdf1f02"
      },
      "execution_count": 3,
      "outputs": [
        {
          "output_type": "stream",
          "name": "stdout",
          "text": [
            "Enter name: JOZEF\n",
            "WELCOME TO GOOGLE COLAB, JOZEF\n"
          ]
        }
      ]
    }
  ]
}